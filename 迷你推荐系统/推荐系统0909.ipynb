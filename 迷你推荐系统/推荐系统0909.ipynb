{
 "cells": [
  {
   "cell_type": "markdown",
   "metadata": {},
   "source": [
    "# 基于协同过滤算法的电影推荐系统"
   ]
  },
  {
   "cell_type": "raw",
   "metadata": {},
   "source": [
    "一、准备数据集\n",
    "   这一次用到的数据集还是来自于movielen的数据，用到的是ml-100k的数据集，官网上有很多版本，主要区别在于数据量大小而已。有兴趣的小伙伴可以采用更大的数据集去做实验！先来看看数据长什么样子吧！"
   ]
  },
  {
   "cell_type": "code",
   "execution_count": 2,
   "metadata": {},
   "outputs": [],
   "source": [
    "#导入需要用到的库\n",
    "import pandas as pd\n",
    "import numpy as np\n",
    "from sklearn.metrics.pairwise import cosine_similarity\n",
    "user_file=pd.read_csv('./u.data')\n",
    "movie_file=pd.read_csv('./u.item.txt',sep='|')\n",
    "\n",
    "user_df = pd.read_csv('./u.data',sep='\\t',names=['user_id','item_id','rating','timestamp'])\n",
    "movies_df = pd.read_csv('./u.item.txt',encoding='utf-8',sep='|',usecols=['movie_id','movie_title' ,\n",
    "                                                                            'release date'],\n",
    "                                                                              names=['movie_id','movie_title' ,\n",
    "                                                                            'release date','video release date',\n",
    "                                                                            'IMDb URL','unknown','Action','Adventure',\n",
    "                                                                            'Animation','Children','Comedy','Crime',\n",
    "                                                                            'Documentary','Drama','Fantasy','Film-Noir',\n",
    "                                                                            'Horror','Musical','Mystery',' Romance',\n",
    "                                                                            'Sci-Fi','Thriller','War','Western'])"
   ]
  },
  {
   "cell_type": "code",
   "execution_count": 3,
   "metadata": {},
   "outputs": [
    {
     "data": {
      "text/html": [
       "<div>\n",
       "<style scoped>\n",
       "    .dataframe tbody tr th:only-of-type {\n",
       "        vertical-align: middle;\n",
       "    }\n",
       "\n",
       "    .dataframe tbody tr th {\n",
       "        vertical-align: top;\n",
       "    }\n",
       "\n",
       "    .dataframe thead th {\n",
       "        text-align: right;\n",
       "    }\n",
       "</style>\n",
       "<table border=\"1\" class=\"dataframe\">\n",
       "  <thead>\n",
       "    <tr style=\"text-align: right;\">\n",
       "      <th></th>\n",
       "      <th>user_id</th>\n",
       "      <th>item_id</th>\n",
       "      <th>rating</th>\n",
       "      <th>timestamp</th>\n",
       "    </tr>\n",
       "  </thead>\n",
       "  <tbody>\n",
       "    <tr>\n",
       "      <th>99990</th>\n",
       "      <td>806</td>\n",
       "      <td>421</td>\n",
       "      <td>4</td>\n",
       "      <td>882388897</td>\n",
       "    </tr>\n",
       "    <tr>\n",
       "      <th>99991</th>\n",
       "      <td>676</td>\n",
       "      <td>538</td>\n",
       "      <td>4</td>\n",
       "      <td>892685437</td>\n",
       "    </tr>\n",
       "    <tr>\n",
       "      <th>99992</th>\n",
       "      <td>721</td>\n",
       "      <td>262</td>\n",
       "      <td>3</td>\n",
       "      <td>877137285</td>\n",
       "    </tr>\n",
       "    <tr>\n",
       "      <th>99993</th>\n",
       "      <td>913</td>\n",
       "      <td>209</td>\n",
       "      <td>2</td>\n",
       "      <td>881367150</td>\n",
       "    </tr>\n",
       "    <tr>\n",
       "      <th>99994</th>\n",
       "      <td>378</td>\n",
       "      <td>78</td>\n",
       "      <td>3</td>\n",
       "      <td>880056976</td>\n",
       "    </tr>\n",
       "    <tr>\n",
       "      <th>99995</th>\n",
       "      <td>880</td>\n",
       "      <td>476</td>\n",
       "      <td>3</td>\n",
       "      <td>880175444</td>\n",
       "    </tr>\n",
       "    <tr>\n",
       "      <th>99996</th>\n",
       "      <td>716</td>\n",
       "      <td>204</td>\n",
       "      <td>5</td>\n",
       "      <td>879795543</td>\n",
       "    </tr>\n",
       "    <tr>\n",
       "      <th>99997</th>\n",
       "      <td>276</td>\n",
       "      <td>1090</td>\n",
       "      <td>1</td>\n",
       "      <td>874795795</td>\n",
       "    </tr>\n",
       "    <tr>\n",
       "      <th>99998</th>\n",
       "      <td>13</td>\n",
       "      <td>225</td>\n",
       "      <td>2</td>\n",
       "      <td>882399156</td>\n",
       "    </tr>\n",
       "    <tr>\n",
       "      <th>99999</th>\n",
       "      <td>12</td>\n",
       "      <td>203</td>\n",
       "      <td>3</td>\n",
       "      <td>879959583</td>\n",
       "    </tr>\n",
       "  </tbody>\n",
       "</table>\n",
       "</div>"
      ],
      "text/plain": [
       "       user_id  item_id  rating  timestamp\n",
       "99990      806      421       4  882388897\n",
       "99991      676      538       4  892685437\n",
       "99992      721      262       3  877137285\n",
       "99993      913      209       2  881367150\n",
       "99994      378       78       3  880056976\n",
       "99995      880      476       3  880175444\n",
       "99996      716      204       5  879795543\n",
       "99997      276     1090       1  874795795\n",
       "99998       13      225       2  882399156\n",
       "99999       12      203       3  879959583"
      ]
     },
     "execution_count": 3,
     "metadata": {},
     "output_type": "execute_result"
    }
   ],
   "source": [
    "user_df.tail(10)"
   ]
  },
  {
   "cell_type": "code",
   "execution_count": 4,
   "metadata": {},
   "outputs": [
    {
     "name": "stdout",
     "output_type": "stream",
     "text": [
      "<class 'pandas.core.frame.DataFrame'>\n",
      "RangeIndex: 100000 entries, 0 to 99999\n",
      "Data columns (total 4 columns):\n",
      "user_id      100000 non-null int64\n",
      "item_id      100000 non-null int64\n",
      "rating       100000 non-null int64\n",
      "timestamp    100000 non-null int64\n",
      "dtypes: int64(4)\n",
      "memory usage: 3.1 MB\n"
     ]
    }
   ],
   "source": [
    "#查看用户点评数据\n",
    "user_df.info()"
   ]
  },
  {
   "cell_type": "code",
   "execution_count": 5,
   "metadata": {},
   "outputs": [
    {
     "data": {
      "text/html": [
       "<div>\n",
       "<style scoped>\n",
       "    .dataframe tbody tr th:only-of-type {\n",
       "        vertical-align: middle;\n",
       "    }\n",
       "\n",
       "    .dataframe tbody tr th {\n",
       "        vertical-align: top;\n",
       "    }\n",
       "\n",
       "    .dataframe thead th {\n",
       "        text-align: right;\n",
       "    }\n",
       "</style>\n",
       "<table border=\"1\" class=\"dataframe\">\n",
       "  <thead>\n",
       "    <tr style=\"text-align: right;\">\n",
       "      <th></th>\n",
       "      <th>movie_id</th>\n",
       "      <th>movie_title</th>\n",
       "      <th>release date</th>\n",
       "    </tr>\n",
       "  </thead>\n",
       "  <tbody>\n",
       "    <tr>\n",
       "      <th>1672</th>\n",
       "      <td>1673</td>\n",
       "      <td>Mirage (1995)</td>\n",
       "      <td>01-Jan-1995</td>\n",
       "    </tr>\n",
       "    <tr>\n",
       "      <th>1673</th>\n",
       "      <td>1674</td>\n",
       "      <td>Mamma Roma (1962)</td>\n",
       "      <td>01-Jan-1962</td>\n",
       "    </tr>\n",
       "    <tr>\n",
       "      <th>1674</th>\n",
       "      <td>1675</td>\n",
       "      <td>Sunchaser, The (1996)</td>\n",
       "      <td>25-Oct-1996</td>\n",
       "    </tr>\n",
       "    <tr>\n",
       "      <th>1675</th>\n",
       "      <td>1676</td>\n",
       "      <td>War at Home, The (1996)</td>\n",
       "      <td>01-Jan-1996</td>\n",
       "    </tr>\n",
       "    <tr>\n",
       "      <th>1676</th>\n",
       "      <td>1677</td>\n",
       "      <td>Sweet Nothing (1995)</td>\n",
       "      <td>20-Sep-1996</td>\n",
       "    </tr>\n",
       "    <tr>\n",
       "      <th>1677</th>\n",
       "      <td>1678</td>\n",
       "      <td>Mat' i syn (1997)</td>\n",
       "      <td>06-Feb-1998</td>\n",
       "    </tr>\n",
       "    <tr>\n",
       "      <th>1678</th>\n",
       "      <td>1679</td>\n",
       "      <td>B. Monkey (1998)</td>\n",
       "      <td>06-Feb-1998</td>\n",
       "    </tr>\n",
       "    <tr>\n",
       "      <th>1679</th>\n",
       "      <td>1680</td>\n",
       "      <td>Sliding Doors (1998)</td>\n",
       "      <td>01-Jan-1998</td>\n",
       "    </tr>\n",
       "    <tr>\n",
       "      <th>1680</th>\n",
       "      <td>1681</td>\n",
       "      <td>You So Crazy (1994)</td>\n",
       "      <td>01-Jan-1994</td>\n",
       "    </tr>\n",
       "    <tr>\n",
       "      <th>1681</th>\n",
       "      <td>1682</td>\n",
       "      <td>Scream of Stone (Schrei aus Stein) (1991)</td>\n",
       "      <td>08-Mar-1996</td>\n",
       "    </tr>\n",
       "  </tbody>\n",
       "</table>\n",
       "</div>"
      ],
      "text/plain": [
       "      movie_id                                movie_title release date\n",
       "1672      1673                              Mirage (1995)  01-Jan-1995\n",
       "1673      1674                          Mamma Roma (1962)  01-Jan-1962\n",
       "1674      1675                      Sunchaser, The (1996)  25-Oct-1996\n",
       "1675      1676                    War at Home, The (1996)  01-Jan-1996\n",
       "1676      1677                       Sweet Nothing (1995)  20-Sep-1996\n",
       "1677      1678                          Mat' i syn (1997)  06-Feb-1998\n",
       "1678      1679                           B. Monkey (1998)  06-Feb-1998\n",
       "1679      1680                       Sliding Doors (1998)  01-Jan-1998\n",
       "1680      1681                        You So Crazy (1994)  01-Jan-1994\n",
       "1681      1682  Scream of Stone (Schrei aus Stein) (1991)  08-Mar-1996"
      ]
     },
     "execution_count": 5,
     "metadata": {},
     "output_type": "execute_result"
    }
   ],
   "source": [
    "#查看电影数据\n",
    "movies_df.tail(10)"
   ]
  },
  {
   "cell_type": "code",
   "execution_count": 6,
   "metadata": {
    "scrolled": true
   },
   "outputs": [
    {
     "data": {
      "text/html": [
       "<div>\n",
       "<style scoped>\n",
       "    .dataframe tbody tr th:only-of-type {\n",
       "        vertical-align: middle;\n",
       "    }\n",
       "\n",
       "    .dataframe tbody tr th {\n",
       "        vertical-align: top;\n",
       "    }\n",
       "\n",
       "    .dataframe thead th {\n",
       "        text-align: right;\n",
       "    }\n",
       "</style>\n",
       "<table border=\"1\" class=\"dataframe\">\n",
       "  <thead>\n",
       "    <tr style=\"text-align: right;\">\n",
       "      <th></th>\n",
       "      <th>movie_id</th>\n",
       "      <th>movie_title</th>\n",
       "      <th>release date</th>\n",
       "    </tr>\n",
       "  </thead>\n",
       "  <tbody>\n",
       "    <tr>\n",
       "      <th>404</th>\n",
       "      <td>405</td>\n",
       "      <td>Mission: Impossible (1996)</td>\n",
       "      <td>22-May-1996</td>\n",
       "    </tr>\n",
       "  </tbody>\n",
       "</table>\n",
       "</div>"
      ],
      "text/plain": [
       "     movie_id                 movie_title release date\n",
       "404       405  Mission: Impossible (1996)  22-May-1996"
      ]
     },
     "execution_count": 6,
     "metadata": {},
     "output_type": "execute_result"
    }
   ],
   "source": [
    "movies_df[movies_df['movie_title'].str.contains('Mission')]"
   ]
  },
  {
   "cell_type": "code",
   "execution_count": 7,
   "metadata": {},
   "outputs": [
    {
     "data": {
      "text/html": [
       "<div>\n",
       "<style scoped>\n",
       "    .dataframe tbody tr th:only-of-type {\n",
       "        vertical-align: middle;\n",
       "    }\n",
       "\n",
       "    .dataframe tbody tr th {\n",
       "        vertical-align: top;\n",
       "    }\n",
       "\n",
       "    .dataframe thead th {\n",
       "        text-align: right;\n",
       "    }\n",
       "</style>\n",
       "<table border=\"1\" class=\"dataframe\">\n",
       "  <thead>\n",
       "    <tr style=\"text-align: right;\">\n",
       "      <th></th>\n",
       "      <th>movie_id</th>\n",
       "      <th>movie_title</th>\n",
       "      <th>release date</th>\n",
       "    </tr>\n",
       "  </thead>\n",
       "  <tbody>\n",
       "    <tr>\n",
       "      <th>425</th>\n",
       "      <td>426</td>\n",
       "      <td>Transformers: The Movie, The (1986)</td>\n",
       "      <td>01-Jan-1986</td>\n",
       "    </tr>\n",
       "  </tbody>\n",
       "</table>\n",
       "</div>"
      ],
      "text/plain": [
       "     movie_id                          movie_title release date\n",
       "425       426  Transformers: The Movie, The (1986)  01-Jan-1986"
      ]
     },
     "execution_count": 7,
     "metadata": {},
     "output_type": "execute_result"
    }
   ],
   "source": [
    "movies_df[movies_df['movie_title'].str.contains('Trans')]"
   ]
  },
  {
   "cell_type": "raw",
   "metadata": {},
   "source": [
    "因为只用到这两份文件，所以其它的不做一一展示了，有兴趣可以试一下其它文件。"
   ]
  },
  {
   "cell_type": "raw",
   "metadata": {},
   "source": [
    "二、协同过滤\n",
    "      协同过滤方法可以分为两个主要部分：基于用户协同过滤和产品-产品协同过滤。一个基于用户协同过滤将选取一个特定的用户，基于打分的相似性发现类似于该用户的用户，并推荐那些相似用户喜欢的产品。\n",
    "      相比之下，基于产品协同过滤会选取一个产品，发现喜欢该产品的用户，并找到这些用户或相似的用户还喜欢的其他的产品。输入一个产品，然后输出其他产品作为荐。简单来说，就是：\n",
    "    基于用户协同过滤: “喜欢这个东西的人也喜欢……”\n",
    "    基于产品协同过滤: “像你一样的人也喜欢……” \n",
    "    其中有一个关键点，就是计算相似度。这里将要用到的方法是余弦相似度，类似的还有欧几里得距离，曼哈顿距离等等来衡量两者之间的距离（相似性）。但在这里，协同过滤用余弦相似度要更好，也更合理。因为也有现成的函数可以使用，所以就不详细说明了。原理的话可以自己查找一下资料，还是容易理解的，涉及到一点线性代数知识。"
   ]
  },
  {
   "cell_type": "raw",
   "metadata": {},
   "source": [
    "我们就一步步来构造这个基于协同过滤的的小电影推荐系统！"
   ]
  },
  {
   "cell_type": "raw",
   "metadata": {},
   "source": [
    "3.1 构造用户-电影矩阵\n",
    "    协同过滤就设计到两点：用户-物品矩阵，相似度。我们先来构造第一个，有上面的df表，可以看到user_id（用户），item_id（电影），rating（评分）三个维度，刚好就是我们想要的，于是："
   ]
  },
  {
   "cell_type": "code",
   "execution_count": 8,
   "metadata": {},
   "outputs": [
    {
     "data": {
      "text/plain": [
       "array([[5., 3., 4., ..., 0., 0., 0.],\n",
       "       [4., 0., 0., ..., 0., 0., 0.],\n",
       "       [0., 0., 0., ..., 0., 0., 0.],\n",
       "       ...,\n",
       "       [5., 0., 0., ..., 0., 0., 0.],\n",
       "       [0., 0., 0., ..., 0., 0., 0.],\n",
       "       [0., 5., 0., ..., 0., 0., 0.]])"
      ]
     },
     "execution_count": 8,
     "metadata": {},
     "output_type": "execute_result"
    }
   ],
   "source": [
    "n_users = user_df.user_id.unique().shape[0]       #用户总数\n",
    "n_items = user_df.item_id.unique().shape[0]        #电影总数\n",
    "data_matrix = np.zeros((n_users,n_items))     #矩阵\n",
    "for line in user_df.itertuples():               \n",
    "    data_matrix[line[1]-1, line[2]-1] = line[3] \n",
    "data_matrix"
   ]
  },
  {
   "cell_type": "raw",
   "metadata": {},
   "source": [
    "每一行代表一个用户，每一列代表一部电影，矩阵元素则是评分。那接下来就可以进行第二步了——相似度计算。\n"
   ]
  },
  {
   "cell_type": "code",
   "execution_count": 9,
   "metadata": {},
   "outputs": [
    {
     "data": {
      "text/plain": [
       "array([[1.        , 0.40238218, 0.33024479, ..., 0.        , 0.04718307,\n",
       "        0.04718307],\n",
       "       [0.40238218, 1.        , 0.27306918, ..., 0.        , 0.07829936,\n",
       "        0.07829936],\n",
       "       [0.33024479, 0.27306918, 1.        , ..., 0.        , 0.        ,\n",
       "        0.09687505],\n",
       "       ...,\n",
       "       [0.        , 0.        , 0.        , ..., 1.        , 0.        ,\n",
       "        0.        ],\n",
       "       [0.04718307, 0.07829936, 0.        , ..., 0.        , 1.        ,\n",
       "        0.        ],\n",
       "       [0.04718307, 0.07829936, 0.09687505, ..., 0.        , 0.        ,\n",
       "        1.        ]])"
      ]
     },
     "execution_count": 9,
     "metadata": {},
     "output_type": "execute_result"
    }
   ],
   "source": [
    "#3计算相似度计算\n",
    "from sklearn.metrics.pairwise import cosine_similarity\n",
    " #电影余弦相似度矩阵\n",
    "item_similarity=cosine_similarity(data_matrix.T, dense_output=True)     \n",
    "item_similarity"
   ]
  },
  {
   "cell_type": "markdown",
   "metadata": {},
   "source": [
    "推荐系统算法"
   ]
  },
  {
   "cell_type": "code",
   "execution_count": 10,
   "metadata": {
    "scrolled": true
   },
   "outputs": [],
   "source": [
    "def movie_recsys(keywords,k):         #keywords：电影名关键词，k：为最接近的k部电影\n",
    "    keywords=keywords.title() \n",
    "    movie_list=[]       #存储结果列表\n",
    "    try:\n",
    "        #过滤电影数据集，搜索找到对应的电影的id\n",
    "        movieid=list(movies_df[movies_df['movie_title'].str.contains(keywords)].movie_id)[0]   \n",
    "        #获取该电影的余弦相似度数组\n",
    "        movie_similarity=item_similarity[movieid-1] \n",
    "        #返回前K+1个最高相似度的索引位置\n",
    "        movie_similarity_index=np.argsort(-movie_similarity)[:k+1]   \n",
    "        \n",
    "\n",
    "        for i in movie_similarity_index:\n",
    "            rec_movies=list(item_df[item_df.movie_id==(i+1)].movie_title)   #存储电影名\n",
    "            rec_movies.append(movie_similarity[i])                          #存储相似度\n",
    "            rec_movies.append(len(df[df.item_id==(i+1)]))                   #用户数\n",
    "            rec_movies.append(df[df.item_id==(i+1)]['rating'].mean())       #平均评分分\n",
    "            movie_list.append(rec_movies)                                  #列表中的元素为列表\n",
    "    except:\n",
    "        print('提示：找不到该电影！请检查输入！')\n",
    "    return movie_list"
   ]
  },
  {
   "cell_type": "code",
   "execution_count": null,
   "metadata": {},
   "outputs": [],
   "source": [
    "def main():\n",
    "    name=input('请输入电影名称或者关键词：')\n",
    "    num=int(input('您希望找到多少部相关电影（请输入整数）：'))\n",
    "    result=movie_recsys(name,num)\n",
    "    movieid=list(movies_df[movies_df['movie_title']==result[0][0]].movie_id)[0]\n",
    "    choice=input('是否设置相似度阈值（y/n）')\n",
    "    if choice=='y':\n",
    "        threshold=float(input('请设置一个阈值（0到1之间，该值越高电影间相似性越高）：'))\n",
    "        counter=0\n",
    "        for i in range(1,num+1):\n",
    "            if result[i][1]>=threshold:\n",
    "                counter+=1\n",
    "                \n",
    "        if counter==0:\n",
    "            print('抱歉，找不到符合条件的电影，可能阈值设置过高，请重新设置！')\n",
    "        else:\n",
    "            print('{}共有{}个用户评分,平均评分为{}(评分上限为5分)'.format(result[0][0],len(user_df[user_df.item_id==movieid]),\n",
    "                                                          \"%.5f\" %user_df[user_df.item_id==movieid]['rating'].mean()))\n",
    "                                                                  \n",
    "            print('经过阈值处理，与{}最相似的前{}部是（剔除了{}部）：'.format(result[0][0],counter,num-counter))\n",
    "            print()\n",
    "            for i in range(1,counter+1):\n",
    "                print(result[i][0],',相似度为:{}, 共有{}个用户评分，平均评分为{}(评分上限为5分)'.format(\n",
    "                                                                            \"%.6f\" %result[i][1],\n",
    "                                                                               result[i][2],\n",
    "                                                                          \"%.5f\" %result[i][3]))\n",
    "                \n",
    "    else:\n",
    "        print('{}共有{}个用户评分，平均评分为{}(评分上限为5分)'.format(result[0][0],len(user_df[user_df.item_id==movieid]),\n",
    "                                                            \"%.5f\" %user_df[user_df.item_id==movieid]['rating'].mean()))\n",
    "        print('与{}最相似的前{}部是：'.format(result[0][0],num))\n",
    "        print()\n",
    "        for i in range(1,num+1):\n",
    "            print(result[i][0],',相似度为:{}, 共有{}个用户评分，平均评分为{}(评分上限为5分)'.format(\n",
    "                                                                                    \"%.6f\" % result[i][1],\n",
    "                                                                                       result[i][2],\n",
    "                                                                                  \"%.5f\" % result[i][3]))\n",
    "\n",
    "    c=input('是否继续使用？（y/n）：')\n",
    "    if c=='y':\n",
    "        main() \n",
    "    else:\n",
    "        print('谢谢使用！')\n",
    "\n",
    "main()"
   ]
  },
  {
   "cell_type": "raw",
   "metadata": {},
   "source": []
  }
 ],
 "metadata": {
  "kernelspec": {
   "display_name": "Python 3",
   "language": "python",
   "name": "python3"
  },
  "language_info": {
   "codemirror_mode": {
    "name": "ipython",
    "version": 3
   },
   "file_extension": ".py",
   "mimetype": "text/x-python",
   "name": "python",
   "nbconvert_exporter": "python",
   "pygments_lexer": "ipython3",
   "version": "3.6.6"
  }
 },
 "nbformat": 4,
 "nbformat_minor": 2
}
